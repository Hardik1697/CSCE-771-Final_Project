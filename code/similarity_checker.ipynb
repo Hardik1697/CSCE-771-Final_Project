{
 "cells": [
  {
   "cell_type": "markdown",
   "metadata": {},
   "source": [
    "### import TfidfVcetorizer from sklearn library"
   ]
  },
  {
   "cell_type": "code",
   "execution_count": 71,
   "metadata": {},
   "outputs": [],
   "source": [
    "from sklearn.feature_extraction.text import TfidfVectorizer"
   ]
  },
  {
   "cell_type": "markdown",
   "metadata": {},
   "source": [
    "### Import reader from the csv library to read the csv file containing summaries"
   ]
  },
  {
   "cell_type": "code",
   "execution_count": 72,
   "metadata": {},
   "outputs": [],
   "source": [
    "from csv import reader\n",
    "with open('summaries.csv', 'r') as read_obj:\n",
    "    csv_reader = reader(read_obj)\n",
    "    lst = list(csv_reader)"
   ]
  },
  {
   "cell_type": "markdown",
   "metadata": {},
   "source": [
    "### Create a list corpus and append the rows from the csv file"
   ]
  },
  {
   "cell_type": "code",
   "execution_count": 73,
   "metadata": {},
   "outputs": [],
   "source": [
    "corpus = []\n",
    "for row in lst:\n",
    "    corpus.append(row[0])\n",
    "    corpus.append(row[1])"
   ]
  },
  {
   "cell_type": "markdown",
   "metadata": {},
   "source": [
    "### Transform the data in the list corpus using the TfidfVectorizer"
   ]
  },
  {
   "cell_type": "code",
   "execution_count": 74,
   "metadata": {},
   "outputs": [],
   "source": [
    "vec = TfidfVectorizer()\n",
    "transformed_vec = vec.fit_transform(corpus)"
   ]
  },
  {
   "cell_type": "markdown",
   "metadata": {},
   "source": [
    "### Import cosine_similarity from the sklearn library and use it to calculate the cosine similarity between the summary provided with the dataset with respect to it's articles and the project generated summary"
   ]
  },
  {
   "cell_type": "code",
   "execution_count": 75,
   "metadata": {},
   "outputs": [
    {
     "name": "stdout",
     "output_type": "stream",
     "text": [
      "Printing similarity rounded to 2 decimal places...\n",
      "Given Summary with generated summary for doc 1: 88.57%\n",
      "Given Summary with generated summary for doc 2: 83.65%\n",
      "Given Summary with generated summary for doc 3: 84.75%\n",
      "Given Summary with generated summary for doc 4: 79.97%\n",
      "Given Summary with generated summary for doc 5: 74.68%\n",
      "Given Summary with generated summary for doc 6: 95.41%\n",
      "Given Summary with generated summary for doc 7: 86.45%\n",
      "Given Summary with generated summary for doc 8: 80.78%\n",
      "Given Summary with generated summary for doc 9: 85.58%\n",
      "Given Summary with generated summary for doc 10: 89.14%\n",
      "\n",
      "Average similarity: 84.9%\n"
     ]
    }
   ],
   "source": [
    "from sklearn.metrics.pairwise import cosine_similarity\n",
    "j = 1\n",
    "avg = []\n",
    "print(\"Printing similarity rounded to 2 decimal places...\")\n",
    "i = 0\n",
    "while (i < len(corpus)):\n",
    "    c_sim = cosine_similarity (transformed_vec[i], transformed_vec[i + 1])\n",
    "    similarity = str(c_sim[0][0])\n",
    "    sim_float = round(float(similarity), 4)\n",
    "    print(\"Given Summary with generated summary for doc \" + str(j) + \": \" + str(round((sim_float * 100), 2)) + \"%\")\n",
    "    avg.append(sim_float*100)\n",
    "    j += 1\n",
    "    i += 2\n",
    "tot = 0\n",
    "for i in avg:\n",
    "    tot += i\n",
    "avg_sim = round((tot / len(avg)), 2)\n",
    "print(\"\\nAverage similarity: \" + str(avg_sim) + \"%\")"
   ]
  }
 ],
 "metadata": {
  "kernelspec": {
   "display_name": "Python 3",
   "language": "python",
   "name": "python3"
  },
  "language_info": {
   "codemirror_mode": {
    "name": "ipython",
    "version": 3
   },
   "file_extension": ".py",
   "mimetype": "text/x-python",
   "name": "python",
   "nbconvert_exporter": "python",
   "pygments_lexer": "ipython3",
   "version": "3.8.5"
  }
 },
 "nbformat": 4,
 "nbformat_minor": 4
}
