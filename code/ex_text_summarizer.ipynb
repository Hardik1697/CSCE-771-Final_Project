{
 "cells": [
  {
   "cell_type": "markdown",
   "metadata": {},
   "source": [
    "### Import os to check if the file exists in the directory"
   ]
  },
  {
   "cell_type": "code",
   "execution_count": 958,
   "metadata": {},
   "outputs": [],
   "source": [
    "import os"
   ]
  },
  {
   "cell_type": "markdown",
   "metadata": {},
   "source": [
    "### Get input of the File name and percentage of summary the user wants"
   ]
  },
  {
   "cell_type": "code",
   "execution_count": 959,
   "metadata": {},
   "outputs": [
    {
     "name": "stdout",
     "output_type": "stream",
     "text": [
      "Please enter the name of the file you want to summarize with extension \n",
      "E.g., if the filename is file and it is a text file, please enter file.txt: 001.txt\n",
      "\n",
      "Please enter the % of the original text you want as the summary (0-100): 30\n",
      "\n",
      "You selected 001.txt\n",
      "The percentage you want is 30.0%\n",
      "type yes if this is correct type yes or type no to enter details again: y\n",
      "\n",
      "GREAT!\n"
     ]
    }
   ],
   "source": [
    "filename = \"\"\n",
    "while True:\n",
    "    while True:\n",
    "        filename = input(\"Please enter the name of the file you want to summarize with extension \\nE.g., if the filename is file and it is a text file, please enter file.txt: \")\n",
    "        if os.path.exists(filename):\n",
    "            break\n",
    "        else:\n",
    "            print(\"Please try again\")\n",
    "    print()\n",
    "    percentage_input = \"\"\n",
    "    percentage = 0.0\n",
    "    while True:\n",
    "        percentage_input = input(\"Please enter the % of the original text you want as the summary (0-100): \")\n",
    "        if percentage_input.isdigit():\n",
    "            if -1 < int(percentage_input) < 101:\n",
    "                percentage = int(percentage_input) / 100\n",
    "                break\n",
    "            else:\n",
    "                print(\"Sorry, the % you entered is not between 0 - 100\")\n",
    "        else:\n",
    "            print(\"Sorry, please enter a number\")\n",
    "    print()\n",
    "    choice = input(\"You selected \" + filename + \"\\nThe percentage you want is \" + str(percentage*100) + \"%\\ntype yes if this is correct type yes or type no to enter details again: \")\n",
    "    choice = choice.lower()\n",
    "    print()\n",
    "    if choice == \"yes\" or choice == \"y\":\n",
    "        print(\"GREAT!\")\n",
    "        break"
   ]
  },
  {
   "cell_type": "markdown",
   "metadata": {},
   "source": [
    "### Read the data from the file into a list and convert it into a string"
   ]
  },
  {
   "cell_type": "code",
   "execution_count": 960,
   "metadata": {},
   "outputs": [],
   "source": [
    "my_file = open(filename, \"r\")\n",
    "lst = my_file.readlines()\n",
    "text = \"\"\n",
    "for i in lst:\n",
    "    text += i"
   ]
  },
  {
   "cell_type": "markdown",
   "metadata": {},
   "source": [
    "### Import spacy to use STOPWORDS"
   ]
  },
  {
   "cell_type": "code",
   "execution_count": 961,
   "metadata": {},
   "outputs": [],
   "source": [
    "import spacy as s\n",
    "from spacy.lang.en.stop_words import STOP_WORDS as s_words"
   ]
  },
  {
   "cell_type": "markdown",
   "metadata": {},
   "source": [
    "### Create a list of stopwords"
   ]
  },
  {
   "cell_type": "code",
   "execution_count": 962,
   "metadata": {},
   "outputs": [],
   "source": [
    "stopwords = list(s_words)\n",
    "spacy_dataset = 'en_core_web_sm'"
   ]
  },
  {
   "cell_type": "markdown",
   "metadata": {},
   "source": [
    "### Create a nlp object from spacy's library based on the en_core_web_lg collection and pass in the text to the newly created object"
   ]
  },
  {
   "cell_type": "code",
   "execution_count": 963,
   "metadata": {},
   "outputs": [],
   "source": [
    "nlp = s.load(spacy_dataset)\n",
    "nlp_text = nlp(text)"
   ]
  },
  {
   "cell_type": "markdown",
   "metadata": {},
   "source": [
    "### Create a list of tokens based on the variable nlp_text that is achieved by passing in the text to the spacy object"
   ]
  },
  {
   "cell_type": "code",
   "execution_count": 964,
   "metadata": {},
   "outputs": [],
   "source": [
    "tokens = []\n",
    "for i in nlp_text:\n",
    "    tokens.append(i.text)"
   ]
  },
  {
   "cell_type": "markdown",
   "metadata": {},
   "source": [
    "### Import punctuation from the string library and add a newline character, since that is not in the punctuations by default "
   ]
  },
  {
   "cell_type": "code",
   "execution_count": 965,
   "metadata": {},
   "outputs": [],
   "source": [
    "from string import punctuation\n",
    "punctuation +='\\n'"
   ]
  },
  {
   "cell_type": "markdown",
   "metadata": {},
   "source": [
    "### Assign a word and it's frequency to a dictionary \"frequencuies\" by checking if the word in our variable nlp_text is not in either the stopwords or punctuation"
   ]
  },
  {
   "cell_type": "code",
   "execution_count": 966,
   "metadata": {},
   "outputs": [],
   "source": [
    "frequencies = {}\n",
    "for i in nlp_text:\n",
    "    if i.text.lower() not in stopwords:\n",
    "        if i.text.lower() not in punctuation:\n",
    "            if i.text in frequencies.keys():\n",
    "                frequencies[i.text] += 1\n",
    "            else:\n",
    "                frequencies[i.text] = 1         "
   ]
  },
  {
   "cell_type": "markdown",
   "metadata": {},
   "source": [
    "### Create a list w_freq_vals which will store the frequencies of all the words in our nlp_text variable and this list will be used to determine the maximum frequency of a word"
   ]
  },
  {
   "cell_type": "code",
   "execution_count": 967,
   "metadata": {},
   "outputs": [],
   "source": [
    "w_freq_vals = []\n",
    "for i in frequencies:\n",
    "    w_freq_vals.append(int(frequencies[i]))"
   ]
  },
  {
   "cell_type": "code",
   "execution_count": 968,
   "metadata": {},
   "outputs": [],
   "source": [
    "max_freq = 0\n",
    "for i in w_freq_vals:\n",
    "    if i > max_freq:\n",
    "        max_freq = i"
   ]
  },
  {
   "cell_type": "markdown",
   "metadata": {},
   "source": [
    "### Create weighted frequencies by dividing the frequency of each word by the maximum frequency attained in the above step"
   ]
  },
  {
   "cell_type": "code",
   "execution_count": 969,
   "metadata": {},
   "outputs": [],
   "source": [
    "for word in frequencies.keys():\n",
    "    frequencies[word] = frequencies[word]/max_freq"
   ]
  },
  {
   "cell_type": "markdown",
   "metadata": {},
   "source": [
    "### Create a list of sentences"
   ]
  },
  {
   "cell_type": "code",
   "execution_count": 970,
   "metadata": {},
   "outputs": [],
   "source": [
    "sent_tokens = []\n",
    "for i in nlp_text.sents:\n",
    "    sent_tokens.append(i)"
   ]
  },
  {
   "cell_type": "markdown",
   "metadata": {},
   "source": [
    "### Create a dictionary sentence_scores which will contain the combined score of each and every word in a sentence from the original text"
   ]
  },
  {
   "cell_type": "code",
   "execution_count": 971,
   "metadata": {},
   "outputs": [],
   "source": [
    "sentence_scores = {}\n",
    "for i in sent_tokens:\n",
    "    for j in i:\n",
    "        if j.text.lower() in frequencies.keys():\n",
    "            if i in sentence_scores.keys():\n",
    "                sentence_scores[i] += frequencies[j.text.lower()]                \n",
    "            else:\n",
    "                sentence_scores[i] = frequencies[j.text.lower()]"
   ]
  },
  {
   "cell_type": "markdown",
   "metadata": {},
   "source": [
    "### Calculate the number of sentences to be used in our summary based on the percentage input provided by the user"
   ]
  },
  {
   "cell_type": "code",
   "execution_count": 972,
   "metadata": {},
   "outputs": [],
   "source": [
    "summary_length = int(len(sent_tokens) * percentage)"
   ]
  },
  {
   "cell_type": "markdown",
   "metadata": {},
   "source": [
    "### Create a list to store all the sentences in descending order of their score"
   ]
  },
  {
   "cell_type": "code",
   "execution_count": 973,
   "metadata": {},
   "outputs": [],
   "source": [
    "sum_list = []\n",
    "dict1 = sentence_scores.copy()\n",
    "lst = []\n",
    "for i in dict1:\n",
    "    val = 0\n",
    "    k = \"\"\n",
    "    for j in dict1:\n",
    "        if dict1[j] > val:\n",
    "            val = dict1[j]\n",
    "            k = j\n",
    "    sum_list.append(k)\n",
    "    dict1[k] = 0"
   ]
  },
  {
   "cell_type": "markdown",
   "metadata": {},
   "source": [
    "### Create a list final_summary on the summary_length variable from the sum_list list created above. Finally convert the final_summary list into a string variable called summary."
   ]
  },
  {
   "cell_type": "code",
   "execution_count": 974,
   "metadata": {},
   "outputs": [],
   "source": [
    "final_summary = []\n",
    "for i in range(summary_length):\n",
    "    final_summary.append(sum_list[i])\n",
    "summary = ''\n",
    "for i in final_summary:\n",
    "    summary += str(i)"
   ]
  },
  {
   "cell_type": "markdown",
   "metadata": {},
   "source": [
    "### Print the text file "
   ]
  },
  {
   "cell_type": "code",
   "execution_count": 975,
   "metadata": {
    "scrolled": true
   },
   "outputs": [
    {
     "name": "stdout",
     "output_type": "stream",
     "text": [
      "Ink helps drive democracy in Asia\n",
      "\n",
      "The Kyrgyz Republic, a small, mountainous state of the former Soviet republic, is using invisible ink and ultraviolet readers in the country's elections as part of a drive to prevent multiple voting.\n",
      "\n",
      "This new technology is causing both worries and guarded optimism among different sectors of the population. In an effort to live up to its reputation in the 1990s as \"an island of democracy\", the Kyrgyz President, Askar Akaev, pushed through the law requiring the use of ink during the upcoming Parliamentary and Presidential elections. The US government agreed to fund all expenses associated with this decision.\n",
      "\n",
      "The Kyrgyz Republic is seen by many experts as backsliding from the high point it reached in the mid-1990s with a hastily pushed through referendum in 2003, reducing the legislative branch to one chamber with 75 deputies. The use of ink is only one part of a general effort to show commitment towards more open elections - the German Embassy, the Soros Foundation and the Kyrgyz government have all contributed to purchase transparent ballot boxes.\n",
      "\n",
      "The actual technology behind the ink is not that complicated. The ink is sprayed on a person's left thumb. It dries and is not visible under normal light.\n",
      "\n",
      "However, the presence of ultraviolet light (of the kind used to verify money) causes the ink to glow with a neon yellow light. At the entrance to each polling station, one election official will scan voter's fingers with UV lamp before allowing them to enter, and every voter will have his/her left thumb sprayed with ink before receiving the ballot. If the ink shows under the UV light the voter will not be allowed to enter the polling station. Likewise, any voter who refuses to be inked will not receive the ballot. These elections are assuming even greater significance because of two large factors - the upcoming parliamentary elections are a prelude to a potentially regime changing presidential election in the Autumn as well as the echo of recent elections in other former Soviet Republics, notably Ukraine and Georgia. The use of ink has been controversial - especially among groups perceived to be pro-government.\n",
      "\n",
      "Widely circulated articles compared the use of ink to the rural practice of marking sheep - a still common metaphor in this primarily agricultural society.\n",
      "\n",
      "The author of one such article began a petition drive against the use of the ink. The greatest part of the opposition to ink has often been sheer ignorance. Local newspapers have carried stories that the ink is harmful, radioactive or even that the ultraviolet readers may cause health problems. Others, such as the aggressively middle of the road, Coalition of Non-governmental Organizations, have lauded the move as an important step forward. This type of ink has been used in many elections in the world, in countries as varied as Serbia, South Africa, Indonesia and Turkey. The other common type of ink in elections is indelible visible ink - but as the elections in Afghanistan showed, improper use of this type of ink can cause additional problems. The use of \"invisible\" ink is not without its own problems. In most elections, numerous rumors have spread about it.\n",
      "\n",
      "In Serbia, for example, both Christian and Islamic leaders assured their populations that its use was not contrary to religion. Other rumours are associated with how to remove the ink - various soft drinks, solvents and cleaning products are put forward. However, in reality, the ink is very effective at getting under the cuticle of the thumb and difficult to wash off. The ink stays on the finger for at least 72 hours and for up to a week. The use of ink and readers by itself is not a panacea for election ills. The passage of the inking law is, nevertheless, a clear step forward towards free and fair elections.\" The country's widely watched parliamentary elections are scheduled for 27 February.\n",
      "\n",
      "David Mikosz works for the IFES, an international, non-profit organisation that supports the building of democratic societies.\n",
      "\n"
     ]
    }
   ],
   "source": [
    "print(text)"
   ]
  },
  {
   "cell_type": "markdown",
   "metadata": {},
   "source": [
    "### Print the machine generated summary"
   ]
  },
  {
   "cell_type": "code",
   "execution_count": 976,
   "metadata": {},
   "outputs": [
    {
     "name": "stdout",
     "output_type": "stream",
     "text": [
      "The other common type of ink in elections is indelible visible ink - but as the elections in Afghanistan showed, improper use of this type of ink can cause additional problems.Ink helps drive democracy in Asia\n",
      "\n",
      "The Kyrgyz Republic, a small, mountainous state of the former Soviet republic, is using invisible ink and ultraviolet readers in the country's elections as part of a drive to prevent multiple voting.\n",
      "\n",
      "The use of ink is only one part of a general effort to show commitment towards more open elections - the German Embassy, the Soros Foundation and the Kyrgyz government have all contributed to purchase transparent ballot boxes.\n",
      "\n",
      "In an effort to live up to its reputation in the 1990s as \"an island of democracy\", the Kyrgyz President, Askar Akaev, pushed through the law requiring the use of ink during the upcoming Parliamentary and Presidential elections.At the entrance to each polling station, one election official will scan voter's fingers with UV lamp before allowing them to enter, and every voter will have his/her left thumb sprayed with ink before receiving the ballot.These elections are assuming even greater significance because of two large factors - the upcoming parliamentary elections are a prelude to a potentially regime changing presidential election in the Autumn as well as the echo of recent elections in other former Soviet Republics, notably Ukraine and Georgia.Widely circulated articles compared the use of ink to the rural practice of marking sheep - a still common metaphor in this primarily agricultural society.\n",
      "\n",
      "The use of ink has been controversial - especially among groups perceived to be pro-government.\n",
      "\n",
      "However, the presence of ultraviolet light (of the kind used to verify money) causes the ink to glow with a neon yellow light.\n"
     ]
    }
   ],
   "source": [
    "print(summary)"
   ]
  },
  {
   "cell_type": "markdown",
   "metadata": {},
   "source": [
    "### Print the length of the text file and the length of the summary generated"
   ]
  },
  {
   "cell_type": "code",
   "execution_count": 977,
   "metadata": {},
   "outputs": [
    {
     "name": "stdout",
     "output_type": "stream",
     "text": [
      "TEXT: 4044\n",
      "SUMMARY: 1779\n"
     ]
    }
   ],
   "source": [
    "print(\"TEXT: \" + str(len(text)))\n",
    "print(\"SUMMARY: \" + str(len(summary)))"
   ]
  },
  {
   "cell_type": "markdown",
   "metadata": {},
   "source": [
    "### Write the summary to a text file"
   ]
  },
  {
   "cell_type": "code",
   "execution_count": 978,
   "metadata": {},
   "outputs": [],
   "source": [
    "name = filename[:3]\n",
    "summary_file = open(name+\"_generated_summary.txt\", \"w\")\n",
    "n = summary_file.write(summary)\n",
    "summary_file.close()"
   ]
  },
  {
   "cell_type": "markdown",
   "metadata": {},
   "source": [
    "### Read the summary provided in the dataset and the machine generated summary into 2 variables"
   ]
  },
  {
   "cell_type": "code",
   "execution_count": 979,
   "metadata": {},
   "outputs": [],
   "source": [
    "filename = filename[:3]\n",
    "file1 = open(filename+\"_summary.txt\", \"r\")\n",
    "lst2 = file1.readlines()\n",
    "given_summary = \"\"\n",
    "for i in lst2:\n",
    "    given_summary += i\n",
    "file2 = open(filename+\"_generated_summary.txt\", \"r\")\n",
    "lst1 = file2.readlines()\n",
    "generated_summary = \"\"\n",
    "for i in lst1:\n",
    "    generated_summary += i"
   ]
  },
  {
   "cell_type": "markdown",
   "metadata": {},
   "source": [
    "### Print the summary provided in the dataset"
   ]
  },
  {
   "cell_type": "code",
   "execution_count": 980,
   "metadata": {
    "scrolled": true
   },
   "outputs": [
    {
     "data": {
      "text/plain": [
       "'The other common type of ink in elections is indelible visible ink - but as the elections in Afghanistan showed, improper use of this type of ink can cause additional problems.The use of ink and readers by itself is not a panacea for election ills.The use of \"invisible\" ink is not without its own problems.The use of ink is only one part of a general effort to show commitment towards more open elections - the German Embassy, the Soros Foundation and the Kyrgyz government have all contributed to purchase transparent ballot boxes.The author of one such article began a petition drive against the use of the ink.The use of ink has been controversial - especially among groups perceived to be pro-government.In an effort to live up to its reputation in the 1990s as \"an island of democracy\", the Kyrgyz President, Askar Akaev, pushed through the law requiring the use of ink during the upcoming Parliamentary and Presidential elections.At the entrance to each polling station, one election official will scan voter\\'s fingers with UV lamp before allowing them to enter, and every voter will have his/her left thumb sprayed with ink before receiving the ballot.The ink is sprayed on a person\\'s left thumb.If the ink shows under the UV light the voter will not be allowed to enter the polling station.The actual technology behind the ink is not that complicated.The Kyrgyz Republic, a small, mountainous state of the former Soviet republic, is using invisible ink and ultraviolet readers in the country\\'s elections as part of a drive to prevent multiple voting.This type of ink has been used in many elections in the world, in countries as varied as Serbia, South Africa, Indonesia and Turkey.\\n'"
      ]
     },
     "execution_count": 980,
     "metadata": {},
     "output_type": "execute_result"
    }
   ],
   "source": [
    "given_summary"
   ]
  },
  {
   "cell_type": "markdown",
   "metadata": {},
   "source": [
    "### Print the machine generated summary from this project"
   ]
  },
  {
   "cell_type": "code",
   "execution_count": 981,
   "metadata": {},
   "outputs": [
    {
     "data": {
      "text/plain": [
       "'The other common type of ink in elections is indelible visible ink - but as the elections in Afghanistan showed, improper use of this type of ink can cause additional problems.Ink helps drive democracy in Asia\\n\\nThe Kyrgyz Republic, a small, mountainous state of the former Soviet republic, is using invisible ink and ultraviolet readers in the country\\'s elections as part of a drive to prevent multiple voting.\\n\\nThe use of ink is only one part of a general effort to show commitment towards more open elections - the German Embassy, the Soros Foundation and the Kyrgyz government have all contributed to purchase transparent ballot boxes.\\n\\nIn an effort to live up to its reputation in the 1990s as \"an island of democracy\", the Kyrgyz President, Askar Akaev, pushed through the law requiring the use of ink during the upcoming Parliamentary and Presidential elections.At the entrance to each polling station, one election official will scan voter\\'s fingers with UV lamp before allowing them to enter, and every voter will have his/her left thumb sprayed with ink before receiving the ballot.These elections are assuming even greater significance because of two large factors - the upcoming parliamentary elections are a prelude to a potentially regime changing presidential election in the Autumn as well as the echo of recent elections in other former Soviet Republics, notably Ukraine and Georgia.Widely circulated articles compared the use of ink to the rural practice of marking sheep - a still common metaphor in this primarily agricultural society.\\n\\nThe use of ink has been controversial - especially among groups perceived to be pro-government.\\n\\nHowever, the presence of ultraviolet light (of the kind used to verify money) causes the ink to glow with a neon yellow light.'"
      ]
     },
     "execution_count": 981,
     "metadata": {},
     "output_type": "execute_result"
    }
   ],
   "source": [
    "generated_summary"
   ]
  },
  {
   "cell_type": "markdown",
   "metadata": {},
   "source": [
    "### Import csv which will be used to write the provided summary and the machine generated summary from this project to a csv file"
   ]
  },
  {
   "cell_type": "code",
   "execution_count": 955,
   "metadata": {},
   "outputs": [],
   "source": [
    "import csv"
   ]
  },
  {
   "cell_type": "markdown",
   "metadata": {},
   "source": [
    "### If the summary csv file has been created, append the summaries to that file, if it has not been created then write the summaries to a newly generated file. Format will always be the provided summary in the first column, and the machine generated summary from this project in the second column."
   ]
  },
  {
   "cell_type": "code",
   "execution_count": 956,
   "metadata": {},
   "outputs": [],
   "source": [
    "file_path = 'summaries.csv'\n",
    "if os.path.exists(file_path):\n",
    "    if os.stat(file_path).st_size == 0:\n",
    "        with open(file_path, 'w', newline='') as file:\n",
    "            writer = csv.writer(file)\n",
    "            writer.writerow([given_summary, generated_summary])\n",
    "    else:\n",
    "        with open(file_path, 'a', newline='') as file:\n",
    "            writer = csv.writer(file)\n",
    "            writer.writerow([given_summary, generated_summary])\n",
    "else:\n",
    "    with open(file_path, 'w', newline='') as file:\n",
    "            writer = csv.writer(file)\n",
    "            writer.writerow([given_summary, generated_summary])"
   ]
  }
 ],
 "metadata": {
  "kernelspec": {
   "display_name": "Python 3",
   "language": "python",
   "name": "python3"
  },
  "language_info": {
   "codemirror_mode": {
    "name": "ipython",
    "version": 3
   },
   "file_extension": ".py",
   "mimetype": "text/x-python",
   "name": "python",
   "nbconvert_exporter": "python",
   "pygments_lexer": "ipython3",
   "version": "3.8.5"
  }
 },
 "nbformat": 4,
 "nbformat_minor": 4
}
